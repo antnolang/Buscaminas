{
 "cells": [
  {
   "cell_type": "markdown",
   "metadata": {},
   "source": [
    "**Imports**"
   ]
  },
  {
   "cell_type": "code",
   "execution_count": 1,
   "metadata": {
    "collapsed": true
   },
   "outputs": [],
   "source": [
    "import random\n",
    "import math"
   ]
  },
  {
   "cell_type": "markdown",
   "metadata": {},
   "source": [
    "**Generador del tablero**\n",
    "\n",
    "La clase *Board* genera un tablero de casillas dados los siguientes parámetros de entrada:\n",
    "\n",
    "    - width: Anchura del tablero (número de casillas).\n",
    "    - height: Altura del tablero (número de casillas).\n",
    "    - num_mines: Número de minas que contiene el tablero."
   ]
  },
  {
   "cell_type": "code",
   "execution_count": 128,
   "metadata": {
    "collapsed": true
   },
   "outputs": [],
   "source": [
    "class Square():\n",
    "    \n",
    "    def __init__(self, mine = False, neighbor_mines = 0, hidden = True):\n",
    "        self.is_mine        = mine\n",
    "        self.neighbor_mines = neighbor_mines\n",
    "        self.is_hidden      = hidden\n",
    "        \n",
    "    def reveal(self):\n",
    "        self.is_hidden = False\n",
    "        \n",
    "    def set_mine(self):\n",
    "        self.is_mine = True\n",
    "        \n",
    "    def inc_neighbor_mines(self):\n",
    "        self.neighbor_mines += 1"
   ]
  },
  {
   "cell_type": "code",
   "execution_count": 139,
   "metadata": {},
   "outputs": [],
   "source": [
    "# TODO: Attributes and functions non-public\n",
    "\n",
    "class Board():\n",
    "    \n",
    "    NEIGHBOR_COORDS = (\n",
    "        (-1, 1), (0, 1), (1, 1),\n",
    "        (-1, 0),         (1, 0),\n",
    "        (-1,-1), (0,-1), (1,-1)\n",
    "    )\n",
    "    \n",
    "    def __init__(self, width, height, num_mines):\n",
    "        self.size_x = width\n",
    "        self.size_y = height\n",
    "        self.squares = [[Square() for y in range(self.size_y)] for x in range(self.size_x)]\n",
    "        \n",
    "        self.place_mines(num_mines)\n",
    "    \n",
    "    def place_mines(self, num_mines):\n",
    "        mines = random.sample(range(self.size_x * self.size_y), num_mines)\n",
    "        for i in mines:\n",
    "            mine_coords = self.get_coordinates(i)\n",
    "            x = mine_coords[0]\n",
    "            y = mine_coords[1]\n",
    "            square = self.squares[x][y]\n",
    "            square.set_mine()\n",
    "            \n",
    "            self.update_neighbors(x, y)\n",
    "            \n",
    "    # Example with 3x3 board:\n",
    "    #     - Mine 0 (mine = 0) belong to the coordinates (0,2). Top-left corner.\n",
    "    #     - Mine 8 (mine = 8) belong to the coordinates (2,0). Bottom-right corner.\n",
    "    def get_coordinates(self, mine):\n",
    "        y = math.floor(mine/self.size_x)\n",
    "        x = mine - self.size_x*y\n",
    "        return (x, y)\n",
    "    \n",
    "    def update_neighbors(self, coord_x, coord_y):\n",
    "        for i in range(8):\n",
    "            x = coord_x + self.NEIGHBOR_COORDS[i][0]\n",
    "            y = coord_y + self.NEIGHBOR_COORDS[i][1]\n",
    "            if not (self.invalid_coords(x, y)):\n",
    "                neighbor = self.squares[x][y]\n",
    "                neighbor.inc_neighbor_mines()\n",
    "                \n",
    "    def invalid_coords(self, coord_x, coord_y):\n",
    "        return (coord_x < 0 \n",
    "                or coord_x >= self.size_x \n",
    "                or coord_y < 0 \n",
    "                or coord_y >= self.size_y\n",
    "        )\n",
    "    \n",
    "    # Defined for debugging\n",
    "    def print_revealed(self):\n",
    "        res = ''\n",
    "        \n",
    "        for y in range(self.size_y):\n",
    "            for x in range(self.size_x):\n",
    "                square = self.squares[x][y]\n",
    "                res += '* ' if square.is_mine else '{} '.format(square.neighbor_mines)\n",
    "            res += '\\n'\n",
    "        \n",
    "        return res\n",
    "\n",
    "#    This function only reveals the selected square. Need to implement a\n",
    "#    recursive algorithm to reveal contiguous squares without mines.\n",
    "#\n",
    "#    def reveal(self, coord_x, coord_y):\n",
    "#        square = self.squares[coord_x][coord_y]\n",
    "#        if square.is_mine:\n",
    "#            print('GAME OVER\\n=================')\n",
    "#            print(self.print_revealed())\n",
    "#        else:\n",
    "#            square.reveal()\n",
    "#            print(self.__str__())\n",
    "    \n",
    "    def __str__(self):\n",
    "        res = ''\n",
    "        \n",
    "        for y in range(self.size_y):\n",
    "            for x in range(self.size_x):\n",
    "                square = self.squares[x][y]\n",
    "                res += '_ ' if square.is_hidden else '{} '.format(square.neighbor_mines)\n",
    "            res += '\\n'\n",
    "        \n",
    "        return res\n",
    "        "
   ]
  },
  {
   "cell_type": "markdown",
   "metadata": {},
   "source": [
    "Modelado de red bayesiana:"
   ]
  },
  {
   "cell_type": "code",
   "execution_count": null,
   "metadata": {
    "collapsed": true
   },
   "outputs": [],
   "source": [
    "# Hola Antonio"
   ]
  }
 ],
 "metadata": {
  "kernelspec": {
   "display_name": "Python 3",
   "language": "python",
   "name": "python3"
  },
  "language_info": {
   "codemirror_mode": {
    "name": "ipython",
    "version": 3
   },
   "file_extension": ".py",
   "mimetype": "text/x-python",
   "name": "python",
   "nbconvert_exporter": "python",
   "pygments_lexer": "ipython3",
   "version": "3.6.2"
  }
 },
 "nbformat": 4,
 "nbformat_minor": 2
}
