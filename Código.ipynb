{
 "cells": [
  {
   "cell_type": "markdown",
   "metadata": {},
   "source": [
    "**Imports**"
   ]
  },
  {
   "cell_type": "code",
   "execution_count": 4,
   "metadata": {},
   "outputs": [],
   "source": [
    "import random\n",
    "import math\n",
    "import networkx as nx  # Permite trabajar con grafos\n",
    "import pgmpy.models as pgmm  # Modelos gráficos de probabilidad"
   ]
  },
  {
   "cell_type": "markdown",
   "metadata": {},
   "source": [
    "**Generador del tablero**\n",
    "\n",
    "La clase *Board* genera un tablero de casillas dados los siguientes parámetros de entrada:\n",
    "\n",
    "    - width: Anchura del tablero (número de casillas).\n",
    "    - height: Altura del tablero (número de casillas).\n",
    "    - num_mines: Número de minas que contiene el tablero."
   ]
  },
  {
   "cell_type": "code",
   "execution_count": 128,
   "metadata": {
    "collapsed": true
   },
   "outputs": [],
   "source": [
    "class Square():\n",
    "    \n",
    "    def __init__(self, mine = False, neighbor_mines = 0, hidden = True):\n",
    "        self.is_mine        = mine\n",
    "        self.neighbor_mines = neighbor_mines\n",
    "        self.is_hidden      = hidden\n",
    "        \n",
    "    def reveal(self):\n",
    "        self.is_hidden = False\n",
    "        \n",
    "    def set_mine(self):\n",
    "        self.is_mine = True\n",
    "        \n",
    "    def inc_neighbor_mines(self):\n",
    "        self.neighbor_mines += 1"
   ]
  },
  {
   "cell_type": "code",
   "execution_count": 139,
   "metadata": {},
   "outputs": [],
   "source": [
    "# TODO: Attributes and functions non-public\n",
    "\n",
    "class Board():\n",
    "    \n",
    "    NEIGHBOR_COORDS = (\n",
    "        (-1, 1), (0, 1), (1, 1),\n",
    "        (-1, 0),         (1, 0),\n",
    "        (-1,-1), (0,-1), (1,-1)\n",
    "    )\n",
    "    \n",
    "    def __init__(self, width, height, num_mines):\n",
    "        self.size_x = width\n",
    "        self.size_y = height\n",
    "        self.squares = [[Square() for y in range(self.size_y)] for x in range(self.size_x)]\n",
    "        \n",
    "        self.place_mines(num_mines)\n",
    "    \n",
    "    def place_mines(self, num_mines):\n",
    "        mines = random.sample(range(self.size_x * self.size_y), num_mines)\n",
    "        for i in mines:\n",
    "            mine_coords = self.get_coordinates(i)\n",
    "            x = mine_coords[0]\n",
    "            y = mine_coords[1]\n",
    "            square = self.squares[x][y]\n",
    "            square.set_mine()\n",
    "            \n",
    "            self.update_neighbors(x, y)\n",
    "            \n",
    "    # Example with 3x3 board:\n",
    "    #     - Mine 0 (mine = 0) belong to the coordinates (0,2). Top-left corner.\n",
    "    #     - Mine 8 (mine = 8) belong to the coordinates (2,0). Bottom-right corner.\n",
    "    def get_coordinates(self, mine):\n",
    "        y = math.floor(mine/self.size_x)\n",
    "        x = mine - self.size_x*y\n",
    "        return (x, y)\n",
    "    \n",
    "    def update_neighbors(self, coord_x, coord_y):\n",
    "        for i in range(8):\n",
    "            x = coord_x + self.NEIGHBOR_COORDS[i][0]\n",
    "            y = coord_y + self.NEIGHBOR_COORDS[i][1]\n",
    "            if not (self.invalid_coords(x, y)):\n",
    "                neighbor = self.squares[x][y]\n",
    "                neighbor.inc_neighbor_mines()\n",
    "                \n",
    "    def invalid_coords(self, coord_x, coord_y):\n",
    "        return (coord_x < 0 \n",
    "                or coord_x >= self.size_x \n",
    "                or coord_y < 0 \n",
    "                or coord_y >= self.size_y\n",
    "        )\n",
    "    \n",
    "    # Defined for debugging\n",
    "    def print_revealed(self):\n",
    "        res = ''\n",
    "        \n",
    "        for y in range(self.size_y):\n",
    "            for x in range(self.size_x):\n",
    "                square = self.squares[x][y]\n",
    "                res += '* ' if square.is_mine else '{} '.format(square.neighbor_mines)\n",
    "            res += '\\n'\n",
    "        \n",
    "        return res\n",
    "\n",
    "#    This function only reveals the selected square. Need to implement a\n",
    "#    recursive algorithm to reveal contiguous squares without mines.\n",
    "#\n",
    "#    def reveal(self, coord_x, coord_y):\n",
    "#        square = self.squares[coord_x][coord_y]\n",
    "#        if square.is_mine:\n",
    "#            print('GAME OVER\\n=================')\n",
    "#            print(self.print_revealed())\n",
    "#        else:\n",
    "#            square.reveal()\n",
    "#            print(self.__str__())\n",
    "    \n",
    "    def __str__(self):\n",
    "        res = ''\n",
    "        \n",
    "        for y in range(self.size_y):\n",
    "            for x in range(self.size_x):\n",
    "                square = self.squares[x][y]\n",
    "                res += '_ ' if square.is_hidden else '{} '.format(square.neighbor_mines)\n",
    "            res += '\\n'\n",
    "        \n",
    "        return res\n",
    "        "
   ]
  },
  {
   "cell_type": "markdown",
   "metadata": {},
   "source": [
    "Modelado de red bayesiana:"
   ]
  },
  {
   "cell_type": "code",
   "execution_count": 1,
   "metadata": {},
   "outputs": [],
   "source": [
    "# Para definir la red bayesiana del juego Buscaminas, primero debemos construir el DAG\n",
    "# Para ello, definimos los vértices y las aristas del grafo.\n",
    "\n",
    "def generateDAG(n, m):            \n",
    "    # Añadimos las aristas a la red bayesiana\n",
    "    # Un vértice del tipo Yij tendrá una arista con otro vértice de la forma Xij si son colidantes\n",
    "    # Por tanto, vamos a ir recorriendo cada una de las casillas del tablero y creando aristas que una\n",
    "    # el vértice Y de esa casilla con los vértices X de las casillas colindantes.\n",
    "    # Los vértices se crean automáticamente.\n",
    "    DAG = nx.Graph()\n",
    "    Modelo_Buscaminas = pgmm.BayesianModel()\n",
    "    for i in range(1,n+1):\n",
    "        for j in range(1,m+1):\n",
    "            if i==1:\n",
    "                if j==1:\n",
    "                    # Independientemente del tamaño del tablero, el vértice Y11 siempre tiene los mismos vecinos:\n",
    "                    Modelo_Buscaminas.add_edges_from([('Y11','X21'),\n",
    "                                          ('Y11','X22'),\n",
    "                                          ('Y11','X12')])\n",
    "                    # El vértice Y1,m posee siempre los mismo vecinos: X1,m-1 y X2,m y X2,m-1:\n",
    "                elif j==m:\n",
    "                    Modelo_Buscaminas.add_edges_from([('Y1'+str(m),'X1'+str(m-1)),\n",
    "                                          ('Y1'+str(m),'X2'+str(m)),\n",
    "                                          ('Y1'+str(m),'X2'+str(m-1))])\n",
    "                   # En esta rama se añaden las aristas correspondientes a los vértices donde j>1 && j<m:\n",
    "                else:\n",
    "                    Modelo_Buscaminas.add_edges_from([('Y1'+str(j),'X'+str(i)+str(j-1)),\n",
    "                                          ('Y1'+str(j),'X'+str(i)+str(j+1)),\n",
    "                                          ('Y1'+str(j),'X'+str(i+1)+str(j-1)),\n",
    "                                          ('Y1'+str(j),'X'+str(i+1)+str(j)),\n",
    "                                          ('Y1'+str(j),'X'+str(i+1)+str(j+1))])\n",
    "            elif i==n:\n",
    "                if j==1:\n",
    "                    # El vértice Yn,1 posee 3 vecinos que son Xn,2, Xn-1,1 y Xn-1,2:\n",
    "                    Modelo_Buscaminas.add_edges_from([('Y'+str(n)+str(1),'X'+str(n)+str(2)),\n",
    "                                          ('Y'+str(n)+str(1),'X'+str(n-1)+str(1)),\n",
    "                                          ('Y'+str(n)+str(1),'X'+str(n-1)+str(2))])\n",
    "                   # El vértice Yn,m posee como vecinos los siguientes vértices: Xn,m-1, Xn-1,m y Xn-1,m-1:\n",
    "                elif j==m:\n",
    "                    Modelo_Buscaminas.add_edges_from([('Y'+str(n)+str(m),'X'+str(n)+str(m-1)),\n",
    "                                          ('Y'+str(n)+str(m),'X'+str(n-1)+str(m)),\n",
    "                                          ('Y'+str(n)+str(m),'X'+str(n-1)+str(m-1))])\n",
    "                    # Los vecinos de los vértices Yi,j en los que j>1 y j<m son: Xn,j-1, Xn,j+1, Xn-1,j-1, Xn-1,j y Xn-1,j+1:\n",
    "                else:\n",
    "                    Modelo_Buscaminas.add_edges_from([('Y'+str(n)+str(j),'X'+str(n)+str(j-1)),\n",
    "                                          ('Y'+str(n)+str(j),'X'+str(n)+str(j+1)),\n",
    "                                          ('Y'+str(n)+str(j),'X'+str(n-1)+str(j-1)),\n",
    "                                          ('Y'+str(n)+str(j),'X'+str(n-1)+str(j)),\n",
    "                                          ('Y'+str(n)+str(j),'X'+str(n-1)+str(j+1))])\n",
    "            # En esta rama, añadiremos las aristas de aquellos vértices Yi,j siendo i>1 && i<m. Dentro de esta rama\n",
    "            # se estudiarán 3 situaciones distintas (3 subramas):\n",
    "            else:\n",
    "                # Subrama 1: se añaden las aristas para los vértices Yi,1 y sus correspondientes vecinos\n",
    "                if j==1:\n",
    "                    Modelo_Buscaminas.add_edges_from([('Y'+str(i)+str(1),'X'+str(i)+str(2)),\n",
    "                                          ('Y'+str(i)+str(1),'X'+str(i+1)+str(1)),\n",
    "                                          ('Y'+str(i)+str(1),'X'+str(i+1)+str(2)),\n",
    "                                          ('Y'+str(i)+str(1),'X'+str(i-1)+str(1)),\n",
    "                                          ('Y'+str(i)+str(1),'X'+str(i-1)+str(2))])\n",
    "                # Subrama 2: se añaden las aristas para los vértices Yi,m y sus correspondientes vecinos\n",
    "                elif j==m:\n",
    "                    Modelo_Buscaminas.add_edges_from([('Y'+str(i)+str(m),'X'+str(i)+str(m-1)),\n",
    "                                          ('Y'+str(i)+str(m),'X'+str(i+1)+str(m)),\n",
    "                                          ('Y'+str(i)+str(m),'X'+str(i+1)+str(m-1)),\n",
    "                                          ('Y'+str(i)+str(m),'X'+str(i-1)+str(m)),\n",
    "                                          ('Y'+str(i)+str(m),'X'+str(i-1)+str(m-1))])\n",
    "                # Subrama 3: se añaden las aristas para los vértices Yi,j donde 1<j<m y sus correspondientes vecinos\n",
    "                else:\n",
    "                    Modelo_Buscaminas.add_edges_from([('Y'+str(i)+str(j),'X'+str(i)+str(j+1)),\n",
    "                                          ('Y'+str(i)+str(j),'X'+str(i)+str(j-1)),\n",
    "                                          ('Y'+str(i)+str(j),'X'+str(i+1)+str(j-1)),\n",
    "                                          ('Y'+str(i)+str(j),'X'+str(i+1)+str(j)),\n",
    "                                          ('Y'+str(i)+str(j),'X'+str(i+1)+str(j+1)),\n",
    "                                          ('Y'+str(i)+str(j),'X'+str(i-1)+str(j-1)),\n",
    "                                          ('Y'+str(i)+str(j),'X'+str(i-1)+str(j)),\n",
    "                                          ('Y'+str(i)+str(j),'X'+str(i-1)+str(j+1))])\n",
    "                    \n",
    "            DAG.add_nodes_from(Modelo_Buscaminas.nodes())\n",
    "            DAG.add_edges_from(Modelo_Buscaminas.edges())\n",
    "            \n",
    "    return DAG"
   ]
  },
  {
   "cell_type": "code",
   "execution_count": 2,
   "metadata": {},
   "outputs": [],
   "source": [
    "def drawDAG(DAG):\n",
    "    nx.draw(DAG, with_labels=True, font_weight='bold')\n",
    "    return True   "
   ]
  },
  {
   "cell_type": "code",
   "execution_count": 5,
   "metadata": {},
   "outputs": [],
   "source": [
    "grafo = generateDAG(3, 3)"
   ]
  },
  {
   "cell_type": "code",
   "execution_count": 6,
   "metadata": {},
   "outputs": [
    {
     "data": {
      "text/plain": [
       "NodeView(('Y11', 'X21', 'X22', 'X12', 'Y12', 'X11', 'X13', 'X23', 'Y13', 'Y21', 'X31', 'X32', 'Y22', 'X33', 'Y23', 'Y31', 'Y32', 'Y33'))"
      ]
     },
     "execution_count": 6,
     "metadata": {},
     "output_type": "execute_result"
    }
   ],
   "source": [
    "grafo.nodes()"
   ]
  },
  {
   "cell_type": "code",
   "execution_count": 7,
   "metadata": {},
   "outputs": [
    {
     "data": {
      "text/plain": [
       "EdgeView([('Y11', 'X21'), ('Y11', 'X22'), ('Y11', 'X12'), ('X21', 'Y12'), ('X21', 'Y22'), ('X21', 'Y31'), ('X21', 'Y32'), ('X22', 'Y12'), ('X22', 'Y13'), ('X22', 'Y21'), ('X22', 'Y23'), ('X22', 'Y31'), ('X22', 'Y32'), ('X22', 'Y33'), ('X12', 'Y13'), ('X12', 'Y21'), ('X12', 'Y22'), ('X12', 'Y23'), ('Y12', 'X11'), ('Y12', 'X13'), ('Y12', 'X23'), ('X11', 'Y21'), ('X11', 'Y22'), ('X13', 'Y22'), ('X13', 'Y23'), ('X23', 'Y13'), ('X23', 'Y22'), ('X23', 'Y32'), ('X23', 'Y33'), ('Y21', 'X31'), ('Y21', 'X32'), ('X31', 'Y22'), ('X31', 'Y32'), ('X32', 'Y22'), ('X32', 'Y23'), ('X32', 'Y31'), ('X32', 'Y33'), ('Y22', 'X33'), ('X33', 'Y23'), ('X33', 'Y32')])"
      ]
     },
     "execution_count": 7,
     "metadata": {},
     "output_type": "execute_result"
    }
   ],
   "source": [
    "grafo.edges()"
   ]
  },
  {
   "cell_type": "code",
   "execution_count": 9,
   "metadata": {},
   "outputs": [
    {
     "data": {
      "text/plain": [
       "True"
      ]
     },
     "execution_count": 9,
     "metadata": {},
     "output_type": "execute_result"
    },
    {
     "data": {
      "image/png": "[encoded data removed]",
      "text/plain": [
       "<matplotlib.figure.Figure at 0x175422b3278>"
      ]
     },
     "metadata": {},
     "output_type": "display_data"
    }
   ],
   "source": [
    "drawDAG(grafo)"
   ]
  },
  {
   "cell_type": "code",
   "execution_count": null,
   "metadata": {},
   "outputs": [],
   "source": []
  }
 ],
 "metadata": {
  "kernelspec": {
   "display_name": "Python 3",
   "language": "python",
   "name": "python3"
  },
  "language_info": {
   "codemirror_mode": {
    "name": "ipython",
    "version": 3
   },
   "file_extension": ".py",
   "mimetype": "text/x-python",
   "name": "python",
   "nbconvert_exporter": "python",
   "pygments_lexer": "ipython3",
   "version": "3.6.4"
  }
 },
 "nbformat": 4,
 "nbformat_minor": 2
}
